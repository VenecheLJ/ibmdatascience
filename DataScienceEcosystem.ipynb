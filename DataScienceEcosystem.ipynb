{
 "cells": [
  {
   "cell_type": "markdown",
   "metadata": {},
   "source": [
    "<center>\n",
    "    <img src=\"https://cf-courses-data.s3.us.cloud-object-storage.appdomain.cloud/IBMDeveloperSkillsNetwork-DS0105EN-SkillsNetwork/labs/Module2/images/SN_web_lightmode.png\" width=\"300\" alt=\"cognitiveclass.ai logo\">\n",
    "</center>\n"
   ]
  },
  {
   "cell_type": "markdown",
   "metadata": {},
   "source": [
    "#### Add your code below following the instructions given in the course\n"
   ]
  },
  {
   "cell_type": "markdown",
   "metadata": {},
   "source": [
    "# Data Science Ecosystem"
   ]
  },
  {
   "cell_type": "markdown",
   "metadata": {},
   "source": [
    "### Introduction\n",
    "This notebook will contain a variety of markdown and code cells as required as part of the Jupyter Notebook assignment."
   ]
  },
  {
   "cell_type": "markdown",
   "metadata": {},
   "source": [
    "### Data Science Languages\n",
    "- Python\n",
    "- R\n",
    "- SQL\n",
    "- Scala\n",
    "- Java\n",
    "- C++\n",
    "- Julia"
   ]
  },
  {
   "cell_type": "markdown",
   "metadata": {},
   "source": [
    "### Data Science Libraries\n",
    "#### Python Libraries\n",
    "- Pandas\n",
    "- NumPy\n",
    "- Matplotlib\n",
    "- Seaborn\n",
    "- Scikit-learn\n",
    "- TensorFlow\n",
    "- PyTorch\n",
    "\n",
    "#### R Libraries\n",
    "- ggplot2\n",
    "- Keras\n",
    "- TensorFlow\n",
    "\n",
    "#### Scala Libraries\n",
    "- Vegas\n",
    "- BigDL"
   ]
  },
  {
   "cell_type": "markdown",
   "metadata": {},
   "source": [
    "### Data Science Tools\n",
    "Below is a summary of the different tools of data science.\n",
    "\n",
    "#### Open Source Tools\n",
    "\n",
    "| Task Category | Examples of Tools |\n",
    "| ------------- | ----------------- |\n",
    "| Data Management | MySQL, MongoDB, PostgreSQL |\n",
    "| Data Visualisation | Superset, PixieDust, Kibana |\n",
    "| Model Building | IBM Watson Studio, OpenScale, AutoAI |\n",
    "| Model Deployment | PredicitionIO, Seldon, mLeap |\n",
    "| Model Monitoring | ModelDB, Prometheus, IBM AI Fairness360 |\n",
    "| Data Asset Management | Apache Atlas, Kylo, Egeria |\n",
    "| Code Asset Management | Git, GitHub, BitBucket |\n",
    "\n",
    "#### Commercial Tools\n",
    "\n",
    "| Task Category | Examples of Tools |\n",
    "| ------------- | ----------------- |\n",
    "| Data Management | Microsoft SQL Server, IBM DB2 |\n",
    "| Data Visualisation | Tableau, PowerBI, IBM Cognos Analytics |\n",
    "| Model Building | SPSS, SAS |\n",
    "| Data Asset Management | Informatica, IBM Information Fovernance Catalog |\n",
    "| Development Environment | IBM Watson Studio Desktop |\n",
    "\n",
    "#### Cloud Tools\n",
    "\n",
    "| Task Category | Examples of Tools |\n",
    "| ------------- | ----------------- |\n",
    "| Data Management | Amazon DynamoDB, CouchDB, IBM DB2 |\n",
    "| Data Visualisation | DataMeer, IBM Cognos Analytics |\n",
    "| Model Building | Watson ML, Google Cloud |\n",
    "| Model Deployment | SPSS |\n",
    "| Model Monitoring | Amazon Sagemaker, Watson Open Scale |\n",
    "\n"
   ]
  },
  {
   "cell_type": "markdown",
   "metadata": {},
   "source": [
    "### Arithmetic Expression Examples\n",
    "Below are examples of simple arithmetic expressions"
   ]
  },
  {
   "cell_type": "code",
   "execution_count": 9,
   "metadata": {
    "scrolled": true
   },
   "outputs": [
    {
     "data": {
      "text/plain": [
       "133"
      ]
     },
     "execution_count": 9,
     "metadata": {},
     "output_type": "execute_result"
    }
   ],
   "source": [
    "# Multiply and add numbers\n",
    "(30 * 3) + 43"
   ]
  },
  {
   "cell_type": "code",
   "execution_count": 5,
   "metadata": {},
   "outputs": [
    {
     "data": {
      "text/plain": [
       "3.9"
      ]
     },
     "execution_count": 5,
     "metadata": {},
     "output_type": "execute_result"
    }
   ],
   "source": [
    "# How many hours are 234 minutes?\n",
    "234/60"
   ]
  },
  {
   "cell_type": "markdown",
   "metadata": {},
   "source": [
    "### Objectives of Assignment\n",
    "- Show ability to create Jupyter Notebook\n",
    "- Show ability to create markdown and code cells\n",
    "- Show ability to share Notebook"
   ]
  },
  {
   "cell_type": "markdown",
   "metadata": {},
   "source": [
    "#### Author:\n",
    "Veneche Jansen"
   ]
  },
  {
   "cell_type": "code",
   "execution_count": null,
   "metadata": {},
   "outputs": [],
   "source": []
  }
 ],
 "metadata": {
  "kernelspec": {
   "display_name": "Python 3 (ipykernel)",
   "language": "python",
   "name": "python3"
  },
  "language_info": {
   "codemirror_mode": {
    "name": "ipython",
    "version": 3
   },
   "file_extension": ".py",
   "mimetype": "text/x-python",
   "name": "python",
   "nbconvert_exporter": "python",
   "pygments_lexer": "ipython3",
   "version": "3.12.8"
  }
 },
 "nbformat": 4,
 "nbformat_minor": 4
}
